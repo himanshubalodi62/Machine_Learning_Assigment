{
 "cells": [
  {
   "cell_type": "markdown",
   "id": "37eb8018",
   "metadata": {},
   "source": [
    "# Machine learning_Assignment solution 1"
   ]
  },
  {
   "cell_type": "markdown",
   "id": "8066257c",
   "metadata": {},
   "source": [
    "### 1. What does one mean by the term \"machine learning\" ?"
   ]
  },
  {
   "cell_type": "markdown",
   "id": "d728521c",
   "metadata": {},
   "source": [
    "**Ans:**  Machine learning Populary know as ML is a branch of Artificial Intelligence\n",
    "    (AI) that allows software application to become more more accurate at predicting\n",
    "    outcomes without being explicity programmed to do so. Machine Learning algorithms\n",
    "    use historical data as input to predict new output values."
   ]
  },
  {
   "cell_type": "markdown",
   "id": "c67e1d96",
   "metadata": {},
   "source": [
    "### 2.Can you think of 4 distinct types of issues where it shines ?"
   ]
  },
  {
   "cell_type": "markdown",
   "id": "961f8d60",
   "metadata": {},
   "source": [
    "**Ans:** The following  are some of  the  issue where  Machine Learning can be used:\n",
    "    \n",
    "**.** **Image Recognition:** Image recognition  is  one  of  the most common \n",
    "        \n",
    "applications  of  machine learning . It is  used  to  identify objects,persons,\n",
    "place , digital image , etc. The popular use  case  of image   recognition  and \n",
    "face  detection is\n",
    "**Automatic friend tagging suggestion**\n",
    "        \n",
    "**.**  **Speech Recognition :** While using  Google , we  get an  option \n",
    "of **search by choice** , it comes under  speech  recognition , end  it's\n",
    "a  popular application  of  machine  learning. Speech  recognition  is a \n",
    "process  converting voice instruction  into text , end  it  is  also known \n",
    "as  **speech to text** , or  **Computer bassed speech recognition** At present \n",
    ", machine learning algorithms are widely  used  by various  application  of      speech  recognition . Google  assitant  Siri , Cortana , and  Alexa  are using \n",
    "speech recognition  technology to follow  the voice  instruction.\n",
    "    \n",
    "**.**  **Traffic prediction:** It  predicts the  traffic condition  such as \n",
    "whether  traffic  is  cleared ,  slow-moving , or heavily congested with the help of two ways: Real Time Location of the vehicle from  Google  Map app  and sensors Average  time  has taken  on  past  at the  same time.\n",
    "        \n",
    "**Product recommendation:**  Machine Learning  is widely  used  by  various\n",
    "        e-commerce  and  entertainment  companies  such  as Amazon , Netlix, etc. for product recommendation  to  the  user ."
   ]
  },
  {
   "cell_type": "markdown",
   "id": "05dae39d",
   "metadata": {},
   "source": [
    "### 3.What is a labeled training set, and how does it work ?"
   ]
  },
  {
   "cell_type": "markdown",
   "id": "fd4bebb2",
   "metadata": {},
   "source": [
    "**Ans:** You  split  the  data countaining  known  response variable values  into two pieces . The training set  is used  to  train  the  algorithm, and then  you the  training  model on  the  test set  to predict  the  response   variable values that are already known."
   ]
  },
  {
   "cell_type": "markdown",
   "id": "7309bd99",
   "metadata": {},
   "source": [
    "### 4.What are the two most important tasks that are supervised ?\n",
    "\n",
    "**Ans:** The two most common supervised learning tasks are **1. Regression** and **2.Classification.**"
   ]
  },
  {
   "cell_type": "markdown",
   "id": "99c4bf75",
   "metadata": {},
   "source": [
    "### 5.Can you think of four examples of unsupervised tasks ?"
   ]
  },
  {
   "cell_type": "markdown",
   "id": "08e463db",
   "metadata": {},
   "source": [
    "**Ans:** Four  common  Unsupervised  Tasks  included \n",
    "\n",
    "**1. Clustering**\n",
    "\n",
    "**2.Visualization** \n",
    "\n",
    "**3.Dimensionality Reduction**\n",
    "\n",
    "**4.Association Rule Learning**."
   ]
  },
  {
   "cell_type": "markdown",
   "id": "37d04d47",
   "metadata": {},
   "source": [
    "### 6.State the machine learning model that would be best to make a robot walk through various unfamiliar terrains ?"
   ]
  },
  {
   "cell_type": "markdown",
   "id": "60723296",
   "metadata": {},
   "source": [
    "**Ans:** The best Machine Learning algorithm to allow a Robot to walk in unfamiliar terrains is **Reinforced Learning**, where the robot can learn from response of the terrain to optimize itself."
   ]
  },
  {
   "cell_type": "markdown",
   "id": "c5dda931",
   "metadata": {},
   "source": [
    "### 7.Which algorithm will you use to divide your customers into different groups ?"
   ]
  },
  {
   "cell_type": "markdown",
   "id": "e2c43a52",
   "metadata": {},
   "source": [
    "**Ans:** The Best Algorithm to Segment Customers into different groups is either **Supervised Learning** (if the groups have known labels) or **Unsupervised Learning** (if there are no group labels)."
   ]
  },
  {
   "cell_type": "markdown",
   "id": "5e610b4a",
   "metadata": {},
   "source": [
    "### 8.Will you consider the problem of spam detection to be a supervised or unsupervised learning problem?"
   ]
  },
  {
   "cell_type": "markdown",
   "id": "c90f540e",
   "metadata": {},
   "source": [
    "**Ans**\n",
    "\n",
    "**.** I will consider spam detection problem as supervised learning problem. As to detect a message or mail is spam or ham we need to train our model with the related data.\n",
    "\n",
    "**.** For spam detection we can use two machine learning algorithms :\n",
    "    \n",
    "**.** i) SVM and\n",
    "\n",
    "**.** ii) Naive bayes.\n",
    "\n",
    "**.** But Naive bayes performs well with this kind of problem statement, because it works on conditional probability. We use naive bayes when each feature are independent to other and this text data with nltk, bag of words, best suit to algorithm."
   ]
  },
  {
   "cell_type": "markdown",
   "id": "4df391ef",
   "metadata": {},
   "source": [
    "### 9.What is the concept of an online learning system?"
   ]
  },
  {
   "cell_type": "markdown",
   "id": "e053fc82",
   "metadata": {},
   "source": [
    "**Ans:**\n",
    "\n",
    "**.** Online machine learning system includes methods to create machine learning models using data which becomes available sequentially in time.\n",
    "\n",
    "**.** In classical machine learning approaches, we use the whole data set to train required models and after that, we make predictions on data points using your trained model when we need. At that point, the data we used for training the model is not needed.\n",
    "\n",
    "**.** Differently, online learning techniques update the trained model when each new data point comes. Thus, we can make use of any data we have for the accuracy of our machine learning model instantly."
   ]
  },
  {
   "cell_type": "markdown",
   "id": "3c3787f7",
   "metadata": {},
   "source": [
    "### 10.What is out-of-core learning, and how does it differ from core learning?\n",
    "\n",
    "**Ans:**\n",
    "\n",
    "**.** Out-of-core learning is a way to train our model on data that cannot fit our core memory.\n",
    "\n",
    "**.** It refers to the machine learning algorithms working with data that cannot fit into a single machine's memory but can\n",
    "easily fit into some data storage, such as a local hard disk or web repository."
   ]
  },
  {
   "cell_type": "markdown",
   "id": "c034a7a3",
   "metadata": {},
   "source": [
    "### 11.What kind of learning algorithm makes predictions using a similarity measure?\n",
    "\n",
    "#### Ans: \n",
    "\n",
    "Instance-based learning algorithms use a measure of similarity to generalize to new cases. In an instance-based learning system, the algorithm learns the examples by heart, then uses the similarity measure to generalize."
   ]
  },
  {
   "cell_type": "markdown",
   "id": "dac43d59",
   "metadata": {},
   "source": [
    "### 12.What's the difference between a model parameter and a hyperparameter in a learning algorithm?\n",
    "\n",
    "#### Ans\n",
    "\n",
    "**.** Model parameters are the parameters on which value model get trained.\n",
    "\n",
    "**.** Hyperparameter are the parameters which are multiple values we pass to parameter using a machine learning algorithm to findout the best parameter on which the model gives the best accuracy."
   ]
  },
  {
   "cell_type": "markdown",
   "id": "e7242131",
   "metadata": {},
   "source": [
    "### 13.What are the criteria that model-based learning algorithms look for? What is the most popular method they use to achieve success? What method do they use to make predictions?\n",
    "\n",
    "#### Ans:\n",
    "\n",
    "The criteria a model-based algorithm looks for is to generalize the model, reach to global minima where error will be near to zero.\n",
    "To do this, model based algorithms search for optimal values for the model's parameters, which is called theta. This searching, or \"learning\", is to get global minima. This is what machine learning is all about, and this method is called gradient descent or this algorithm is called convergence algorithm, where we converge towards a specific point in a parabola.\n",
    "Model-based system learn by minimizing a cost function that measures how bad the system is at making predicitons on new data, plus a penalty for model complexity if the model is regularized.\n",
    "To make a prediction, a new instance's features are fed into a hypothesis function which uses the minimized theta found by repeatedly running the cost function."
   ]
  },
  {
   "cell_type": "markdown",
   "id": "37ae4bc5",
   "metadata": {},
   "source": [
    "### 14.Can you name four of the most important Machine Learning challenges?\n",
    "\n",
    "#### Ans:\n",
    "\n",
    "Four of the most important Machine Learning challenges :\n",
    "\n",
    "**.** Not enough training data.\n",
    "\n",
    "**.** Poor Quality of data.\n",
    "\n",
    "**.** Irrelevant features.\n",
    "\n",
    "**.** Overfitting and Underfitting."
   ]
  },
  {
   "cell_type": "markdown",
   "id": "587b7f0a",
   "metadata": {},
   "source": [
    "### 15.What happens if the model performs well on the training data but fails to generalize the results to new situations? Can you think of three different options?\n",
    "\n",
    "#### Ans: \n",
    "\n",
    "This is a case where the model is overfitting, means performing well in the training data but giving not that much good result with new data. To reduce overfitting, we need to generalize the model by reducing the complexity of the model in\n",
    "\n",
    "**.** removing features (feature selection) or constraining the parameters.\n",
    "\n",
    "**.** We could gather more data.\n",
    "\n",
    "**.** We can reduce noisiness in the data by fixing errors and removing outliers."
   ]
  },
  {
   "cell_type": "markdown",
   "id": "f9916b6f",
   "metadata": {},
   "source": [
    "### 16.What exactly is a test set, and why would you need one?\n",
    "\n",
    "#### Ans:\n",
    "\n",
    "**.** Test set means the unseen data to the model, on which we will exmine the model performance once training is done.\n",
    "\n",
    "**.** As per the predicted result we calculate error rate which is called the generalization error or out-of-sample error. This error tells us how bad our model is performing with the unseen data.\n",
    "\n",
    "**.** If the training accuracy is high, but the test accuracy is low , it means we're overfitting our model."
   ]
  },
  {
   "cell_type": "markdown",
   "id": "f39e261f",
   "metadata": {},
   "source": [
    "### 17.What is a validation set's purpose?\n",
    "\n",
    "#### Ans:\n",
    "\n",
    "**.** Validation set generally given by customer to check or validate our model.\n",
    "\n",
    "**.** The respective data scientist needs to share the validation report or prediction report by using the model to the customer."
   ]
  },
  {
   "cell_type": "markdown",
   "id": "5e65fa09",
   "metadata": {},
   "source": [
    "### 18.What precisely is the train-dev kit, when will you need it, how do you put it to use?\n",
    "\n",
    "#### Ans:\n",
    "\n",
    "**.** Train-dev kit or cross validation set that is used to generalize the model.\n",
    "\n",
    "**.** In cross-validation we compare the model without needing a separate validation set. Here we make the parts of the training set eg. 10, without splitting the train data to another validation data. Where we use 9 parts to train the model and 1 part to test the model, and iteratively we do it for each part. And having more data is valuable."
   ]
  },
  {
   "cell_type": "markdown",
   "id": "e3b36c90",
   "metadata": {},
   "source": [
    "### 19.What could go wrong if you use the test set to tune hyperparameters ?\n",
    "\n",
    "**Ans:** If you tune hyperparameters using the test sets, then it may not perform well on the out-of-sample data because the model is tuned just for that specific set."
   ]
  }
 ],
 "metadata": {
  "kernelspec": {
   "display_name": "Python 3 (ipykernel)",
   "language": "python",
   "name": "python3"
  },
  "language_info": {
   "codemirror_mode": {
    "name": "ipython",
    "version": 3
   },
   "file_extension": ".py",
   "mimetype": "text/x-python",
   "name": "python",
   "nbconvert_exporter": "python",
   "pygments_lexer": "ipython3",
   "version": "3.10.9"
  }
 },
 "nbformat": 4,
 "nbformat_minor": 5
}
