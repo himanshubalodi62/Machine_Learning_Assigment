{
 "cells": [
  {
   "cell_type": "markdown",
   "id": "40fe41d9",
   "metadata": {},
   "source": [
    "# Machine Learning Assignment 12 solution"
   ]
  },
  {
   "cell_type": "markdown",
   "id": "8928348b",
   "metadata": {},
   "source": [
    "### 1. What is prior probability ? Give an example ?\n",
    "\n",
    "**Ans:** Prior probability shows the likelihood of an outcome in a given dataset. For example, in the mortgage case, P(Y) is \n",
    "\n",
    "the default rate on a home mortgage, which is **2%. P(Y|X)** is called the conditional probability, which provides the probability \n",
    "\n",
    "of an outcome given the evidence, that is, when the value of X is known."
   ]
  },
  {
   "cell_type": "markdown",
   "id": "9f064e85",
   "metadata": {},
   "source": [
    "### 2. What is posterior probability ? Give an example ?\n",
    "\n",
    "Ans:: Posterior probability is a revised probability that takes into account new available information. For example, let there \n",
    "\n",
    "be two urns, urn A having 5 black balls and 10 red balls and urn B having 10 black balls and 5 red balls."
   ]
  },
  {
   "cell_type": "markdown",
   "id": "2e565c26",
   "metadata": {},
   "source": [
    "### 3. What is likelihood probability ? Give an example ?\n",
    "\n",
    "Ans: Likelihood Function in Machine Learning and Data Science is the joint probability distribution(jpd) of the dataset given \n",
    "\n",
    "as a function of the parameter. Think of it as the probability of obtaining the observed data given the parameter values."
   ]
  },
  {
   "cell_type": "markdown",
   "id": "32b469c4",
   "metadata": {},
   "source": [
    "### 4. What is Naïve Bayes classifier ? Why is it named so ?\n",
    "\n",
    "**Ans:** Naive Bayes is a simple and powerful algorithm for predictive modeling. Naive Bayes is called naive because it assumes \n",
    "\n",
    "that each input variable is independent. This is a strong assumption and unrealistic for real data; however, the technique is \n",
    "\n",
    "very effective on a large range of complex problems."
   ]
  },
  {
   "cell_type": "markdown",
   "id": "ea8e42a1",
   "metadata": {},
   "source": [
    "### 5. . What is optimal Bayes classifier ?\n",
    "\n",
    "**Ans:** The Bayes Optimal Classifier is a probabilistic model that makes the most probable prediction for a new example. Bayes \n",
    "\n",
    "Optimal Classifier is a probabilistic model that finds the most probable prediction using the training data and space of \n",
    "\n",
    "hypotheses to make a prediction for a new data instance."
   ]
  },
  {
   "cell_type": "markdown",
   "id": "e0b9a84e",
   "metadata": {},
   "source": [
    "### 6. Write any two features of Bayesian learning methods ?"
   ]
  },
  {
   "cell_type": "markdown",
   "id": "073b71ca",
   "metadata": {},
   "source": [
    "Bayesian learning methods are a class of machine learning algorithms that use Bayesian inference to make predictions or decisions. Two features of Bayesian learning methods are:\n",
    "\n",
    "**Probability-based approach:** Bayesian learning methods use probabilities to represent uncertainty in the input data and the model. These probabilities are updated as new data is observed, allowing the model to adapt and improve over time. Bayesian learning methods can also incorporate prior knowledge or beliefs about the data into the model, which can improve performance when there is limited data available.\n",
    "\n",
    "**Regularization:** Bayesian learning methods typically include a regularization term in the objective function. This regularization term penalizes complex models, which can help prevent overfitting to the training data. The regularization term can also be used to incorporate prior knowledge or beliefs about the model into the objective function."
   ]
  },
  {
   "cell_type": "markdown",
   "id": "d7adb9eb",
   "metadata": {},
   "source": [
    "### 7. Define the concept of consistent learners ?\n",
    "\n",
    "**Ans:** Consistent Learners: A learner L using a hypothesis H and training data D is said to be a consistent learner if it \n",
    "\n",
    "\n",
    "always outputs a hypothesis with zero error on D whenever H contains such a hypothesis. • By definition, a consistent learner \n",
    "\n",
    "must produce a hypothesis in the version space for H given D."
   ]
  },
  {
   "cell_type": "markdown",
   "id": "bf096cbd",
   "metadata": {},
   "source": [
    "### 8. Write any two strengths of Bayes classifier ?\n",
    "\n",
    "**Ans:** 1.This algorithm works quickly and can save a lot of time. Naive Bayes is suitable for solving multi-class prediction problems.\n",
    "\n",
    "2.If its assumption of the independence of features holds true, it can perform better than other models and requires much less training data."
   ]
  },
  {
   "cell_type": "markdown",
   "id": "f109a405",
   "metadata": {},
   "source": [
    "### 9. Write any two weaknesses of Bayes classifier ?\n",
    "\n",
    "**Ans:** The greatest weakness of the naïve Bayes classifier is that it relies on an often-faulty assumption of equally \n",
    "\n",
    "important and independent features which results in biased posterior probabilities."
   ]
  },
  {
   "cell_type": "markdown",
   "id": "1675fe46",
   "metadata": {},
   "source": [
    "### 10. Explain how Naïve Bayes classifier is used for:\n",
    "\n",
    "1.Text classification\n",
    "\n",
    "2.Spam filtering\n",
    "\n",
    "\n",
    "3.Market sentiment analysis\n",
    "\n",
    "\n",
    "**Ans:** Navie Bayes Classifier is used for:\n",
    "\n",
    "**Text classification:**\n",
    "\n",
    "The Naive Bayes classifier is a simple classifier that classifies based on probabilities of events. It is the applied commonly \n",
    "\n",
    "to text classification. With the training set, we can train a Naive Bayes classifier which we can use to automaticall \n",
    "\n",
    "categorize a new sentence.\n",
    "\n",
    "**Spam filtering:**\n",
    "\n",
    "Naive Bayes classifiers work by correlating the use of tokens (typically words, or sometimes other things), with spam and non-\n",
    "\n",
    "spam e-mails and then using Bayes' theorem to calculate a probability that an email is or is not spam. It is one of the oldest \n",
    "\n",
    "ways of doing spam filtering, with roots in the 1990s.\n",
    "\n",
    "**Market sentiment analysis:**\n",
    "\n",
    "Market Sentiment analysis is a field dedicated to extracting subjective emotions and feelings from text. One common use of \n",
    "\n",
    "sentiment analysis is to figure out if a text expresses negative or positive feelings. Naive Bayes is a popular algorithm for \n",
    "\n",
    "classifying text."
   ]
  },
  {
   "cell_type": "code",
   "execution_count": null,
   "id": "816df942",
   "metadata": {},
   "outputs": [],
   "source": []
  }
 ],
 "metadata": {
  "kernelspec": {
   "display_name": "Python 3 (ipykernel)",
   "language": "python",
   "name": "python3"
  },
  "language_info": {
   "codemirror_mode": {
    "name": "ipython",
    "version": 3
   },
   "file_extension": ".py",
   "mimetype": "text/x-python",
   "name": "python",
   "nbconvert_exporter": "python",
   "pygments_lexer": "ipython3",
   "version": "3.10.9"
  }
 },
 "nbformat": 4,
 "nbformat_minor": 5
}
