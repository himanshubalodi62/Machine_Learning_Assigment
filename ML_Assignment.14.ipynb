{
 "cells": [
  {
   "cell_type": "markdown",
   "id": "00fe0195",
   "metadata": {},
   "source": [
    "# Machine Learning Assignment 14 solution"
   ]
  },
  {
   "cell_type": "markdown",
   "id": "4f567746",
   "metadata": {},
   "source": [
    "#### 1. What is the concept of supervised learning? What is the significance of the name ?"
   ]
  },
  {
   "cell_type": "markdown",
   "id": "ba4f3986",
   "metadata": {},
   "source": [
    "**Ans** Supervised learning, also known as supervised machine learning, is a subcategory of machine learning and artificial \n",
    "\n",
    "intelligence. It is defined by its use of labeled datasets to train algorithms that to classify data or predict outcomes \n",
    "\n",
    "accurately."
   ]
  },
  {
   "cell_type": "markdown",
   "id": "9e47a9b7",
   "metadata": {},
   "source": [
    "The significance of supervised learning is that it is a powerful tool for solving a wide range of prediction and classification \n",
    "\n",
    "tasks. Supervised learning algorithms can be used for image classification, speech recognition, natural language processing, \n",
    "\n",
    "and many other applications. Additionally, because supervised learning algorithms are trained on labeled data, they can often \n",
    "\n",
    "achieve high levels of accuracy and can be easily evaluated using standard metrics such as precision, recall, and F1 score."
   ]
  },
  {
   "cell_type": "markdown",
   "id": "86e34f86",
   "metadata": {},
   "source": [
    "#### 2. In the hospital sector, offer an example of supervised learning ?"
   ]
  },
  {
   "cell_type": "markdown",
   "id": "b338fc22",
   "metadata": {},
   "source": [
    "The algorithm would learn to identify patterns and relationships between the input features (such as patient age, lab values, \n",
    "\n",
    "etc.) and the corresponding output (patient outcome). Once trained, the algorithm could be used to predict the outcomes of new \n",
    "\n",
    "patients based on their medical records. This could help healthcare professionals to make more informed decisions about patient \n",
    "\n",
    "care and allocate resources more effectively."
   ]
  },
  {
   "cell_type": "markdown",
   "id": "d4d4d257",
   "metadata": {},
   "source": [
    "#### 3. Give three supervised learning examples ?"
   ]
  },
  {
   "cell_type": "markdown",
   "id": "e5289f26",
   "metadata": {},
   "source": [
    "**Ans** Types of supervised Machine learning Algorithms:\n",
    "\n",
    "Linear Regression.\n",
    "\n",
    "Regression Trees.\n",
    "\n",
    "Non-Linear Regression.\n",
    "\n",
    "Bayesian Linear Regression.\n",
    "\n",
    "Polynomial Regression."
   ]
  },
  {
   "cell_type": "markdown",
   "id": "942eca2a",
   "metadata": {},
   "source": [
    "**Image classification:** Given a set of images with labeled categories, a supervised learning algorithm can learn to classify new, unseen images into their appropriate categories. This can be useful in a variety of applications, such as identifying objects in images for autonomous vehicles or detecting anomalies in medical imaging.\n",
    "\n",
    "**Fraud detection:** Supervised learning algorithms can be used to identify instances of fraud in financial transactions. The algorithm would be trained on a dataset of labeled examples of fraudulent and non-fraudulent transactions, learning to distinguish between the two based on the input features (such as transaction amount, location, and time). Once trained, the algorithm can be used to predict the likelihood of fraud for new transactions.\n",
    "\n",
    "**Sentiment analysis:** Supervised learning algorithms can be used to classify text data into different sentiment categories, such as positive, negative, or neutral. This can be useful in analyzing customer feedback or reviews, helping businesses to identify areas for improvement and better understand customer sentiment towards their products or services.\n",
    "\n",
    "\n",
    "\n",
    "\n",
    "\n",
    "\n"
   ]
  },
  {
   "cell_type": "markdown",
   "id": "c90f4885",
   "metadata": {},
   "source": [
    "#### 4. In supervised learning, what are classification and regression ?\n",
    "\n",
    "**Ans:** Fundamentally, classification is about predicting a label and regression is about predicting a quantity. That classification is the problem of predicting a discrete class label output for an example. That regression is the problem of predicting a continuous quantity output for an example."
   ]
  },
  {
   "cell_type": "markdown",
   "id": "fbf58e94",
   "metadata": {},
   "source": [
    "**Classification** is a type of supervised learning problem in which the goal is to predict a categorical output variable based on a set of input features. The algorithm learns to map the input features to discrete output categories or classes. For example, given a set of input features describing a patient, a classification algorithm could predict whether the patient has a certain disease or not. Common classification algorithms include logistic regression, decision trees, and support vector machines.\n",
    "\n",
    "**Regression** is another type of supervised learning problem in which the goal is to predict a continuous output variable based on a set of input features. The algorithm learns to map the input features to a continuous output value. For example, given a set of input features describing a house, a regression algorithm could predict its sale price. Common regression algorithms include linear regression, polynomial regression, and decision trees."
   ]
  },
  {
   "cell_type": "markdown",
   "id": "65460525",
   "metadata": {},
   "source": [
    "#### 5. Give some popular classification algorithms as examples ?\n",
    "\n",
    "**Ans:** Popular algorithms that can be used for multi-class classification include:\n",
    "\n",
    "1.k-Nearest Neighbors\n",
    "\n",
    "2.Decision Trees.\n",
    "\n",
    "3.Naive Bayes"
   ]
  },
  {
   "cell_type": "markdown",
   "id": "ba1f856a",
   "metadata": {},
   "source": [
    "#### 6. Briefly describe the SVM model ?\n",
    "\n",
    "**Ans:** A support vector machine (SVM) is a supervised machine learning model that uses classification algorithms for two-group classification problems. After giving an SVM model sets of labeled training data for each category, they're able to categorize new text.\n",
    "\n",
    "A support vector machine (SVM) is machine learning algorithm that analyzes data for classification and regression analysis. SVM is a supervised learning method that looks at data and sorts it into one of two categories. An SVM outputs a map of the sorted data with the margins between the two as far apart as possible."
   ]
  },
  {
   "cell_type": "markdown",
   "id": "5961cc21",
   "metadata": {},
   "source": [
    "#### 7. In SVM, what is the cost of misclassification ?"
   ]
  },
  {
   "cell_type": "markdown",
   "id": "3fa48743",
   "metadata": {},
   "source": [
    "**Ans:** In support vector machine (SVM) algorithms, the cost of misclassification refers to the penalty or cost assigned to a \n",
    "\n",
    "misclassification error. This cost is also referred to as the C parameter in the SVM algorithm. The C parameter determines the \n",
    "\n",
    "trade-off between achieving a low training error and a low testing error, and it controls the margin of separation between the \n",
    "\n",
    "decision boundary and the data points."
   ]
  },
  {
   "cell_type": "markdown",
   "id": "887e4a3c",
   "metadata": {},
   "source": [
    "#### 8. In the SVM model, define Support Vectors ?\n",
    "\n",
    "**Ans:** Support vectors are data points that are closer to the hyperplane and influence the position and orientation of the \n",
    "\n",
    "hyperplane. Using these support vectors, we maximize the margin of the classifier. Deleting the support vectors will change the \n",
    "\n",
    "position of the hyperplane. These are the points that help us build our SVM."
   ]
  },
  {
   "cell_type": "markdown",
   "id": "8654b717",
   "metadata": {},
   "source": [
    "#### 9. In the SVM model, define the kernel ?\n",
    "\n",
    "**Ans:** SVM algorithms use a set of mathematical functions that are defined as the kernel. The function of kernel is to take \n",
    "\n",
    "data as input and transform it into the required form. These functions can be different types. For example linear, nonlinear, \n",
    "\n",
    "polynomial, radial basis function (RBF), and sigmoid."
   ]
  },
  {
   "cell_type": "markdown",
   "id": "b29fdc3f",
   "metadata": {},
   "source": [
    "#### 11. What are the benefits of using the SVM model ?\n",
    "\n",
    "**Ans:** SVM works relatively well when there is a clear margin of separation between classes. SVM is more effective in high \n",
    "\n",
    "dimensional spaces. SVM is effective in cases where the number of dimensions is greater than the number of samples.SVM is \n",
    "\n",
    "relatively memory efficient."
   ]
  },
  {
   "cell_type": "markdown",
   "id": "96078048",
   "metadata": {},
   "source": [
    "#### 12. What are the drawbacks of using the SVM model ?\n",
    "\n",
    "**Ans:** SVM algorithm is not suitable for large data sets. SVM does not perform very well when the data set has more noise \n",
    "\n",
    "i.e. target classes are overlapping. In cases where the number of features for each data point exceeds the number of training \n",
    "\n",
    "data samples, the SVM will underperform."
   ]
  },
  {
   "cell_type": "markdown",
   "id": "9d0e85ef",
   "metadata": {},
   "source": [
    "#### 13. Notes should be written on\n",
    "\n",
    "1.The kNN algorithm has a validation flaw.\n",
    "\n",
    "2.In the kNN algorithm, the k value is chosen.\n",
    "\n",
    "3.A decision tree with inductive bias"
   ]
  },
  {
   "cell_type": "markdown",
   "id": "e7da5263",
   "metadata": {},
   "source": [
    "**Ans:** The Short notes on below topics is:\n",
    "\n",
    "##### The kNN algorithm has a validation flaw.\n",
    "\n",
    "The relatively low accuracy of kNN is caused by several factors. One of them is that every characteristic of the method has the \n",
    "\n",
    "same result on calculating distance. The solution of this problem is to give weight to each data characteristic.\n",
    "\n",
    "##### In the kNN algorithm, the k value is chosen.\n",
    "\n",
    "The optimal K value usually found is the square root of N, where N is the total number of samples. Use an error plot or \n",
    "\n",
    "accuracy plot to find the most favorable K value. KNN performs well with multi-label classes, but you must be aware of the \n",
    "\n",
    "outliers.\n",
    "\n",
    "##### A decision tree with inductive bias\n",
    "\n",
    "Shorter trees are preferred over longer ones. Trees that place high information gain attributes close to the root are preferred \n",
    "\n",
    "over those that do not."
   ]
  },
  {
   "cell_type": "markdown",
   "id": "05d10922",
   "metadata": {},
   "source": [
    "#### 14. What are some of the benefits of the kNN algorithm ?\n",
    "\n",
    "**Ans:** Some Advantages of KNN are:\n",
    "\n",
    "1.Quick calculation time.\n",
    "\n",
    "2Simple algorithm – to interpret.\n",
    "\n",
    "3.Versatile – useful for regression and classification.\n",
    "\n",
    "4.High accuracy – you do not need to compare with better-supervised learning models."
   ]
  },
  {
   "cell_type": "markdown",
   "id": "1738d459",
   "metadata": {},
   "source": [
    "#### 15. What are some of the kNN algorithm's drawbacks ?\n",
    "\n",
    "**Ans:** Some Disadvantages of KNN are:\n",
    "\n",
    "1.Accuracy depends on the quality of the data.\n",
    "\n",
    "2.With large data, the prediction stage might be slow.\n",
    "\n",
    "3.Sensitive to the scale of the data and irrelevant features.\n",
    "\n",
    "4.Require high memory – need to store all of the training data.\n",
    "\n",
    "5.Given that it stores all of the training, it can be computationally expensive."
   ]
  },
  {
   "cell_type": "markdown",
   "id": "a391d20e",
   "metadata": {},
   "source": [
    "#### 16. Explain the decision tree algorithm in a few words ?\n",
    "\n",
    "**Ans:** A decision tree is a graphical representation of all the possible solutions to a decision based on certain conditions. \n",
    "\n",
    "Tree models where the target variable can take a finite set of values are called classification trees and target variable can \n",
    "\n",
    "take continuous values (numbers) are called regression trees."
   ]
  },
  {
   "cell_type": "markdown",
   "id": "6109c7ec",
   "metadata": {},
   "source": [
    "#### 17. What is the difference between a node and a leaf in a decision tree ?\n",
    "\n",
    "**Ans:** A decision tree is a flowchart-like structure in which each internal node represents a \"test\" on an attribute (e.g. \n",
    "\n",
    "whether a coin flip comes up heads or tails), each branch represents the outcome of the test, and each leaf node represents a \n",
    "\n",
    "class label (decision taken after computing all attributes)."
   ]
  },
  {
   "cell_type": "markdown",
   "id": "692e2def",
   "metadata": {},
   "source": [
    "#### 18. What is a decision tree's entropy ?\n",
    "\n",
    "**Ans:** Entropy helps us to build an appropriate decision tree for selecting the best splitter. Entropy can be defined as a \n",
    "\n",
    "measure of the purity of the sub split. Entropy always lies between 0 to 1. The entropy of any split can be calculate by this \n",
    "\n",
    "formula."
   ]
  },
  {
   "cell_type": "markdown",
   "id": "349112fe",
   "metadata": {},
   "source": [
    "#### 19. In a decision tree, define knowledge gain ?\n",
    "\n",
    "**Ans:** Information gain is the reduction in entropy or surprise by transforming a dataset and is often used in training \n",
    "\n",
    "decision trees.Information gain is calculated by comparing the entropy of the dataset before and after a transformation."
   ]
  },
  {
   "cell_type": "markdown",
   "id": "96bbf71a",
   "metadata": {},
   "source": [
    "#### 20. Choose three advantages of the decision tree approach and write them down ?\n",
    "\n",
    "**Ans:** Advantages of Decision Trees :\n",
    "\n",
    "1.Easy to read and interpret. One of the advantages of decision trees is that their outputs are easy to read and interpret \n",
    "\n",
    "without requiring statistical knowledge.\n",
    "\n",
    "2.Easy to prepare.\n",
    "\n",
    "3.Less data cleaning required."
   ]
  },
  {
   "cell_type": "markdown",
   "id": "39bd3ec5",
   "metadata": {},
   "source": [
    "#### 21. Make a list of three flaws in the decision tree process ?\n",
    "\n",
    "**Ans:** Issues in Decision Tree Learning :\n",
    "\n",
    "1.Overfitting the data.\n",
    "\n",
    "2.Guarding against bad attribute choices.\n",
    "\n",
    "3.Handling continuous valued attributes.\n",
    "\n",
    "4.Handling missing attribute values.\n",
    "\n",
    "5.Handling attributes with differing costs."
   ]
  },
  {
   "cell_type": "markdown",
   "id": "05654beb",
   "metadata": {},
   "source": [
    "#### 22. Briefly describe the random forest model ?\n",
    "\n",
    "Ans: The random forest is a classification algorithm consisting of many decisions trees. It uses bagging and feature randomness when building each individual tree to try to create an uncorrelated forest of trees whose prediction by committee is more accurate than that of any individual tree."
   ]
  },
  {
   "cell_type": "markdown",
   "id": "cbd3b1b5",
   "metadata": {},
   "source": [
    "The Random Forest algorithm works by randomly selecting a subset of features and data samples from the training set to build each decision tree. This process, known as bootstrap aggregating or bagging, helps to reduce overfitting and improves the generalization ability of the model."
   ]
  },
  {
   "cell_type": "code",
   "execution_count": null,
   "id": "d7162e2f",
   "metadata": {},
   "outputs": [],
   "source": []
  }
 ],
 "metadata": {
  "kernelspec": {
   "display_name": "Python 3 (ipykernel)",
   "language": "python",
   "name": "python3"
  },
  "language_info": {
   "codemirror_mode": {
    "name": "ipython",
    "version": 3
   },
   "file_extension": ".py",
   "mimetype": "text/x-python",
   "name": "python",
   "nbconvert_exporter": "python",
   "pygments_lexer": "ipython3",
   "version": "3.10.9"
  }
 },
 "nbformat": 4,
 "nbformat_minor": 5
}
