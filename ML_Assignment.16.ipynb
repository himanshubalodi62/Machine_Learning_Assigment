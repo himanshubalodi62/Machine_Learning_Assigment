{
 "cells": [
  {
   "cell_type": "markdown",
   "id": "486775ae",
   "metadata": {},
   "source": [
    "#### 1. In a linear equation, what is the difference between a dependent variable and an independent variable ?\n",
    "\n",
    "**Ans:** Algebraically, a linear equation typically takes the form **y = mx + b**, where m and b are constants, ***x is the \n",
    "independent variable, y is the dependent variable.** The slope tells us how the dependent variable (y) changes for every one unit increase in the independent (x) variable, on average.\n",
    "\n",
    "The variables in a study of a cause-and-effect relationship are called the independent and dependent variables. The independent variable is the cause. Its value is independent of other variables in your study. The dependent variable is the effect"
   ]
  },
  {
   "cell_type": "markdown",
   "id": "be27eec0",
   "metadata": {},
   "source": [
    "#### 2.. What is the concept of simple linear regression? Give a specific example ?\n",
    "\n",
    "**Ans:** Simple linear regression is a regression model that estimates the relationship between one independent variable and \n",
    "\n",
    "one dependent variable using a straight line. Both variables should be quantitative. Linear regression most often uses mean-\n",
    "\n",
    "square error (MSE) to calculate the error of the model.\n",
    "\n",
    "For example, suppose that height was the only determinant of body weight.In this example, if an individual was 70 inches tall, \n",
    "\n",
    "we would predict his weight to be: Weight = 80 + 2 x (70) = 220 lbs. In this simple linear regression, we are examining the \n",
    "\n",
    "impact of one independent variable on the outcome."
   ]
  },
  {
   "cell_type": "markdown",
   "id": "832e9566",
   "metadata": {},
   "source": [
    "### 3. In a linear regression, define the slope ?\n",
    "\n",
    "**Ans:** The slope of a regression line (b) represents the rate of change in y as x changes. Because y is dependent on x, the \n",
    "\n",
    "slope describes the predicted values of y given x. The slope must be calculated before the y-intercept when using a linear \n",
    "\n",
    "regression, as the intercept is calculated using the slope."
   ]
  },
  {
   "cell_type": "markdown",
   "id": "0cc27f1b",
   "metadata": {},
   "source": [
    "#### 4. Determine the graph's slope, where the lower point on the line is represented as (3, 2) and the higher point is represented as (2, 2) ?\n",
    "\n",
    "**Ans:** The graph's slope, where the lower point on the line is represented as (3, 2) and the higher point is represented as \n",
    "\n",
    "(2, 2) is 0"
   ]
  },
  {
   "cell_type": "markdown",
   "id": "a13ee31f",
   "metadata": {},
   "source": [
    "#### 5. In linear regression, what are the conditions for a positive slope ?\n",
    "\n",
    "**Ans:** If the slope is positive, y increases as x increases, and the function runs \"uphill\" (going left to right). If the \n",
    "\n",
    "slope is zero, y does not change, thus is constant—a horizontal line."
   ]
  },
  {
   "cell_type": "markdown",
   "id": "e05fc2ce",
   "metadata": {},
   "source": [
    "#### 6. In linear regression, what are the conditions for a negative slope ?\n",
    "Ans: If the slope is negative, y decreases as x increases and the function runs downhill."
   ]
  },
  {
   "cell_type": "markdown",
   "id": "8a57f9ed",
   "metadata": {},
   "source": [
    "#### 7. What is multiple linear regression and how does it work ?"
   ]
  },
  {
   "cell_type": "markdown",
   "id": "aeabb590",
   "metadata": {},
   "source": [
    "**Ans:**\n",
    "\n",
    "**Multiple linear regression** refers to a statistical technique that uses two or more independent variables to predict the outcome of a dependent variable.\n",
    "\n",
    "The technique enables analysts to determine the variation of the model and the relative contribution of each independent variable in the total variance."
   ]
  },
  {
   "cell_type": "markdown",
   "id": "56d58888",
   "metadata": {},
   "source": [
    "In Multiple Linear Regression, the target variable(Y) is a linear combination of multiple predictor variables x1, x2, x3, ...,xn. Since it is an enhancement of Simple Linear Regression, so the same is applied for the multiple linear regression equation, the equation becomes:"
   ]
  },
  {
   "cell_type": "markdown",
   "id": "6e22c111",
   "metadata": {},
   "source": [
    "formula:\n",
    "    \n",
    "##### Y= b<sub>0</sub>+b<sub>1</sub>x<sub>1</sub>+ b<sub>2</sub>x<sub>2</sub>+ b<sub>3</sub>x<sub>3</sub>+...... bnxn       ............... (a)  "
   ]
  },
  {
   "cell_type": "markdown",
   "id": "598aa0e8",
   "metadata": {},
   "source": [
    "Where,\n",
    "\n",
    "Y= Output/Response variable\n",
    "\n",
    "b0, b1, b2, b3 , bn....= Coefficients of the model.\n",
    "\n",
    "x1, x2, x3, x4,...= Various Independent/feature variable"
   ]
  },
  {
   "cell_type": "markdown",
   "id": "5ea0cc5a",
   "metadata": {},
   "source": [
    "#### 8. In multiple linear regression, define the number of squares due to error ?\n",
    "\n",
    "**Ans:** The mean squared error (MSE) tells you how close a regression line is to a set of points. It does this by taking the \n",
    "\n",
    "distances from the points to the regression line (these distances are the “errors”) and squaring them. It's called the mean \n",
    "\n",
    "squared error as you're finding the average of a set of errors."
   ]
  },
  {
   "cell_type": "markdown",
   "id": "75aad395",
   "metadata": {},
   "source": [
    "#### 9. In multiple linear regression, define the number of squares due to regression ?\n",
    "\n",
    "**Ans:** Sum of squares is a statistical technique used in regression analysis to determine the dispersion of data points. In a \n",
    "\n",
    "regression analysis, the goal is to determine how well a data series can be fitted to a function that might help to explain how \n",
    "\n",
    "the data series was generated."
   ]
  },
  {
   "cell_type": "markdown",
   "id": "b11d5e69",
   "metadata": {},
   "source": [
    "#### 10. In a regression equation, what is multicollinearity ?\n",
    "\n",
    "**Ans:** Multicollinearity occurs when two or more independent variables are highly correlated with one another in a regression \n",
    "\n",
    "model. This means that an independent variable can be predicted from another independent variable in a regression model."
   ]
  },
  {
   "cell_type": "markdown",
   "id": "d8e54fff",
   "metadata": {},
   "source": [
    "#### 11. What is heteroskedasticity, and what does it mean ?\n",
    "\n",
    "**Ans:** Heteroskedasticity (also spelled heteroscedasticity) refers to the error variance, or dependence of scattering, within \n",
    "\n",
    "a minimum of one independent variable within a particular sample.A common cause of variances outside the minimum requirement is \n",
    "\n",
    "often attributed to issues of data quality"
   ]
  },
  {
   "cell_type": "markdown",
   "id": "23f39c69",
   "metadata": {},
   "source": [
    "#### 12. Describe the concept of ridge regression ?\n",
    "\n",
    "**Ans:** Ridge Regression is a technique for analyzing multiple regression data that suffer from multicollinearity.By adding a \n",
    "\n",
    "degree of bias to the regression estimates, ridge regression reduces the standard errors. It is hoped that the net effect will \n",
    "\n",
    "be to give estimates that are more reliable."
   ]
  },
  {
   "cell_type": "markdown",
   "id": "db2b45f5",
   "metadata": {},
   "source": [
    "#### 13. Describe the concept of lasso regression ?\n",
    "\n",
    "**Ans:* In statistics and machine learning, lasso (least absolute shrinkage and selection operator; also Lasso or LASSO) is a \n",
    "\n",
    "regression analysis method that performs both variable selection and regularization in order to enhance the prediction accuracy \n",
    "\n",
    "and interpretability of the resulting statistical model."
   ]
  },
  {
   "cell_type": "markdown",
   "id": "8dba004e",
   "metadata": {},
   "source": [
    "#### 14. What is polynomial regression and how does it work ?\n",
    "\n",
    "**Ans:** Polynomial Regression is a form of Linear regression known as a special case of Multiple linear regression which \n",
    "\n",
    "estimates the relationship as an nth degree polynomial. Polynomial Regression is sensitive to outliers so the presence of one \n",
    "\n",
    "\n",
    "or two outliers can also badly affect the performance."
   ]
  },
  {
   "cell_type": "markdown",
   "id": "28621ef0",
   "metadata": {},
   "source": [
    "#### 15. Describe the basis function ?\n",
    "\n",
    "**Ans:** This is a generalization of linear regression that essentially replaces each input with a function of the input. (A \n",
    "\n",
    "linear basis function model that uses the identity function is just linear regression.)"
   ]
  },
  {
   "cell_type": "markdown",
   "id": "e88b69fb",
   "metadata": {},
   "source": [
    "#### 16. Describe how logistic regression works ?"
   ]
  },
  {
   "cell_type": "markdown",
   "id": "e5bbaf1e",
   "metadata": {},
   "source": [
    "### Ans:"
   ]
  },
  {
   "cell_type": "markdown",
   "id": "4e812d08",
   "metadata": {},
   "source": [
    "Logistic regression is a data analysis technique that uses mathematics to find the relationships between two data factors. It then uses this relationship to predict the value of one of those factors based on the other. The prediction usually has a finite number of outcomes, like yes or no."
   ]
  },
  {
   "cell_type": "markdown",
   "id": "5d8fd7ad",
   "metadata": {},
   "source": [
    "The output of logistic regression is always between (0, and 1), which is suitable for a binary classification task. The higher the value, the higher the probability that the current sample is classified as class=1, and vice versa.\n",
    "\n"
   ]
  },
  {
   "cell_type": "markdown",
   "id": "a8f13690",
   "metadata": {},
   "source": [
    "Logistic regression uses an equation as the representation, very much like linear regression. Input values (x) are combined linearly using weights or coefficient values (referred to as the Greek capital letter Beta) to predict an output value (y)."
   ]
  },
  {
   "cell_type": "code",
   "execution_count": null,
   "id": "03cf199a",
   "metadata": {},
   "outputs": [],
   "source": []
  }
 ],
 "metadata": {
  "kernelspec": {
   "display_name": "Python 3 (ipykernel)",
   "language": "python",
   "name": "python3"
  },
  "language_info": {
   "codemirror_mode": {
    "name": "ipython",
    "version": 3
   },
   "file_extension": ".py",
   "mimetype": "text/x-python",
   "name": "python",
   "nbconvert_exporter": "python",
   "pygments_lexer": "ipython3",
   "version": "3.10.9"
  }
 },
 "nbformat": 4,
 "nbformat_minor": 5
}
