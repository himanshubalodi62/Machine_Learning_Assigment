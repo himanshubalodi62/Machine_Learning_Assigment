{
 "cells": [
  {
   "cell_type": "markdown",
   "id": "91a2007f",
   "metadata": {},
   "source": [
    "# Machine Learning Assignment 18 solution"
   ]
  },
  {
   "cell_type": "markdown",
   "id": "39c41515",
   "metadata": {},
   "source": [
    "#### 1. What is the difference between supervised and unsupervised learning? Give some examples to illustrate your point ?"
   ]
  },
  {
   "cell_type": "markdown",
   "id": "4a9f626f",
   "metadata": {},
   "source": [
    "**Ans:** The main distinction between the two approaches is the use of labeled datasets. To put it simply, supervised learning uses labeled input and output data, while an unsupervised learning algorithm does not. Unsupervised learning models, in contrast, work on their own to discover the inherent structure of unlabeled data.\n",
    "\n",
    "In Supervised learning, you train the machine using data which is well “labeled.” Unsupervised learning is a machine learning technique, where you do not need to supervise the model. For example, Baby can identify other dogs based on past supervised learning."
   ]
  },
  {
   "cell_type": "markdown",
   "id": "c2e71782",
   "metadata": {},
   "source": [
    "#### 2. Mention a few unsupervised learning applications ?"
   ]
  },
  {
   "cell_type": "markdown",
   "id": "b2fc0685",
   "metadata": {},
   "source": [
    "**Ans** Unsupervised learning models are utilized for three main tasks—clustering, association, and dimensionality reduction."
   ]
  },
  {
   "cell_type": "markdown",
   "id": "6370947d",
   "metadata": {},
   "source": [
    "Some of the common applications where unsupervised learning is used are:\n",
    "\n",
    "1.Products Segmentation.\n",
    "\n",
    "2Customer Segmentation.\n",
    "\n",
    "3.Similarity Detection.\n",
    "\n",
    "4.Recommendation Systems.\n",
    "\n",
    "5.Labelling unlabelled datasets."
   ]
  },
  {
   "cell_type": "markdown",
   "id": "b03bbb72",
   "metadata": {},
   "source": [
    "#### 3. What are the three main types of clustering methods? Briefly describe the characteristics of each ?\n",
    "\n",
    "**Ans:** The various types of clustering are:\n",
    "\n",
    "**Connectivity-based Clustering (Hierarchical clustering):** Hierarchical Clustering is a method of unsupervised machine learning clustering where it begins with a pre-defined top to bottom hierarchy of clusters. It then proceeds to perform a decomposition of the data objects based on this hierarchy, hence obtaining the clusters. This method follows two approaches based on the direction of progress, i.e., whether it is the top-down or bottom-up flow of creating clusters.\n",
    "\n",
    "**Centroids-based Clustering (Partitioning methods):** Centroid based clustering is considered as one of the most simplest clustering algorithms, yet the most effective way of creating clusters and assigning data points to it. The intuition behind centroid based clustering is that a cluster is characterized and represented by a central vector and data points that are in close proximity to these vectors are assigned to the respective clusters.\n",
    "\n",
    "**Density-based Clustering (Model-based methods):** If one looks into the previous two methods that we discussed, one would observe that both hierarchical and centroid based algorithms are dependent on a distance (similarity/proximity) metric. The very definition of a cluster is based on this metric. Density-based clustering methods take density into consideration instead of distances. Clusters are considered as the densest region in a data space, which is separated by regions of lower object density and it is defined as a maximal-set of connected points.\n",
    "\n",
    "**Distribution-based Clustering:** Until now, the clustering techniques as we know are based around either proximity (similarity/distance) or composition (density). There is a family of clustering algorithms that take a totally different metric into consideration – probability. Distribution-based clustering creates and groups data points based on their likely hood of belonging to the same probability distribution (Gaussian, Binomial etc.) in the data.\n",
    "\n",
    "**Fuzzy Clustering:** The general idea about clustering revolves around assigning data points to mutually exclusive clusters, meaning, a data point always resides uniquely inside a cluster and it cannot belong to more than one cluster. Fuzzy clustering methods change this paradigm by assigning a data-point to multiple clusters with a quantified degree of belongingness metric. The data-points that are in proximity to the center of a cluster, may also belong in the cluster that is at a higher degree than points in the edge of a cluster. The possibility of which an element belongs to a given cluster is measured by membership coefficient that vary from 0 to 1"
   ]
  },
  {
   "cell_type": "markdown",
   "id": "3b0c27f1",
   "metadata": {},
   "source": [
    "#### 4. Explain how the k-means algorithm determines the consistency of clustering ?\n",
    "\n",
    "**Ans:** K-means is a centroid-based clustering algorithm, where we calculate the distance between each data point and a centroid to assign it to a cluster. The goal is to identify the K number of groups in the dataset.\n",
    "\n",
    "\n",
    "Calculate the Within-Cluster-Sum of Squared Errors (WSS) for different values of k, and choose the k for which WSS becomes first starts to diminish. In the plot of WSS-versus-k, this is visible as an elbow. Within-Cluster-Sum of Squared Errors sounds a bit complex."
   ]
  },
  {
   "cell_type": "markdown",
   "id": "c150c354",
   "metadata": {},
   "source": [
    "#### 5. With a simple illustration, explain the key difference between the k-means and k-medoids algorithms ?\n",
    "\n",
    "**Ans:** K-means attempts to minimize the total squared error, while k-medoids minimizes the sum of \n",
    "\n",
    "dissimilarities between points labeled to be in a cluster and a point designated as the center of \n",
    "\n",
    "that cluster. In contrast to the k -means algorithm, k -medoids chooses datapoints as centers ( \n",
    "\n",
    "medoids or exemplars)."
   ]
  },
  {
   "cell_type": "markdown",
   "id": "0efe8640",
   "metadata": {},
   "source": [
    "#### 6. What is a dendrogram, and how does it work? Explain how to do it ?\n",
    "\n",
    "**Ans:** A dendrogram is a diagram that shows the attribute distances between each pair of \n",
    "\n",
    "sequentially merged classes After each merging, the distances between all pairs of classes are \n",
    "\n",
    "updated. The distances at which the signatures of classes are merged are used to construct a \n",
    "\n",
    "dendrogram."
   ]
  },
  {
   "cell_type": "markdown",
   "id": "86fb9dc1",
   "metadata": {},
   "source": [
    "#### 7. What exactly is SSE? What role does it play in the k-means algorithm ?\n",
    "\n",
    "**Ans:** I am going to refer to it as SSE, which stands for Sum of Squared Errors. The regression \n",
    "\n",
    "line is the line made using the function we defined above. To get the SSE we calculate the distance \n",
    "\n",
    "for each of the data points from the regression line then square the it, then we add to the sum.\n",
    "\n",
    "The SSE is defined as the sum of the squared Euclidean distances of each point to its closest \n",
    "\n",
    "centroid. Since this is a measure of error, the objective of k-means is to try to minimize this \n",
    "\n",
    "value. The purpose of this figure is to show that the initialization of the centroids is an important \n",
    "\n",
    "step."
   ]
  },
  {
   "cell_type": "markdown",
   "id": "f8f7445a",
   "metadata": {},
   "source": [
    "#### 8. With a step-by-step algorithm, explain the k-means procedure ?\n",
    "\n",
    "**Ans:** k-means is one of the simplest unsupervised learning algorithms that solve the well known \n",
    "\n",
    "clustering problem. The procedure follows a simple and easy way to classify a given data set through \n",
    "\n",
    "a certain number of clusters (assume k clusters) fixed apriori. The main idea is to define k centers, \n",
    "\n",
    "one for each cluster.\n",
    "\n",
    "\n",
    "Step 1: Choose the number of clusters k.\n",
    "\n",
    "Step 2: Select k random points from the data as centroids.\n",
    "\n",
    "Step 3: Assign all the points to the closest cluster centroid.\n",
    "\n",
    "Step 4: Recompute the centroids of newly formed clusters.\n",
    "\n",
    "Step 5: Repeat steps 3 and 4."
   ]
  },
  {
   "cell_type": "markdown",
   "id": "cd09eeef",
   "metadata": {},
   "source": [
    "#### 9. In the sense of hierarchical clustering, define the terms single link and complete link ?\n",
    "\n",
    "**Ans:** In single-link (or single linkage) hierarchical clustering, we merge in each step the two \n",
    "\n",
    "clusters whose two closest members have the smallest distance (or: the two clusters with the smallest \n",
    "\n",
    "minimum pairwise distance). Complete-link clustering can also be described using the concept of \n",
    "\n",
    "clique."
   ]
  },
  {
   "cell_type": "markdown",
   "id": "f79c2a79",
   "metadata": {},
   "source": [
    "#### 10. How does the apriori concept aid in the reduction of measurement overhead in a business basket analysis? Give an example to demonstrate your point ?\n",
    "\n",
    "**Ans:** Apriori algorithm assumes that any subset of a frequent itemset must be frequent. Its the \n",
    "\n",
    "algorithm behind Market Basket Analysis. So, according to the principle of Apriori, if {Grapes, \n",
    "\n",
    "Apple, Mango} is frequent, then {Grapes,Mango} must also be frequent. Here is a dataset consisting of \n",
    "\n",
    "six transactions.\""
   ]
  },
  {
   "cell_type": "code",
   "execution_count": null,
   "id": "69f1d1c6",
   "metadata": {},
   "outputs": [],
   "source": []
  }
 ],
 "metadata": {
  "kernelspec": {
   "display_name": "Python 3 (ipykernel)",
   "language": "python",
   "name": "python3"
  },
  "language_info": {
   "codemirror_mode": {
    "name": "ipython",
    "version": 3
   },
   "file_extension": ".py",
   "mimetype": "text/x-python",
   "name": "python",
   "nbconvert_exporter": "python",
   "pygments_lexer": "ipython3",
   "version": "3.10.9"
  }
 },
 "nbformat": 4,
 "nbformat_minor": 5
}
