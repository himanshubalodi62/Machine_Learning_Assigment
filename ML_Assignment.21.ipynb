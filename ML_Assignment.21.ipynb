{
 "cells": [
  {
   "cell_type": "markdown",
   "id": "6d6996d6",
   "metadata": {},
   "source": [
    "# ML Assignment 21 solution"
   ]
  },
  {
   "cell_type": "markdown",
   "id": "c04d5d94",
   "metadata": {},
   "source": [
    "#### 1. What is the estimated depth of a Decision Tree trained (unrestricted) on a one million instance training set ?\n",
    "\n",
    "#### Ans:\n",
    "\n",
    "The depth of a well-balanced binary tree containing m leaves is equal to log2(m)³, rounded up. A binary Decision Tree (one that \n",
    "\n",
    "makes only binary decisions, as is the case of all trees in Scikit-Learn) will end up more or less well balanced at the end of \n",
    "\n",
    "training, with one leaf per training instance if it is trained without restrictions. Thus, if the training set contains one \n",
    "\n",
    "million instances, the Decision Tree will have a depth of log2(10⁶) ≈ 20 (actually a bit more since the tree will generally not \n",
    "\n",
    "be perfectly well balanced)."
   ]
  },
  {
   "cell_type": "markdown",
   "id": "932509d7",
   "metadata": {},
   "source": [
    "#### 2. Is the Gini impurity of a node usually lower or higher than that of its parent? Is it always lower/greater, or is it usually lower/greater ?\n",
    "\n",
    "#### Ans:\n",
    "\n",
    "A node’s Gini impurity is generally lower than its parent’s. This is ensured by the CART training algorithm’s cost function, \n",
    "\n",
    "which splits each node in a way that minimizes the weighted sum of its children’s Gini impurities. However, if one child is \n",
    "\n",
    "smaller than the other, it is possible for it to have a higher Gini impurity than its parent, as long as this increase is more \n",
    "\n",
    "than compensated for by a decrease of the other child’s impurity. For example, consider a node containing four instances of \n",
    "\n",
    "class A and 1 of class B. Its Gini impurity is 1 − (1/5)² − (4/5)² = 0.32. Now suppose the dataset is one-dimensional and the \n",
    "\n",
    "instances are lined up in the following order: A, B, A, A, A. You can verify that the algorithm will split this node after the \n",
    "\n",
    "second instance, producing one child node with instances A, B, and the other child node with instances A, A, A. The first child \n",
    "\n",
    "node’s Gini impurity is 1 − (1/2)²− (1/2)² = 0.5, which is higher than its parent. This is compensated for by the fact that the \n",
    "\n",
    "other node is pure, so the overall weighted Gini impurity is 2/5 × 0.5 + 3/5 × 0 = 0.2, which is lower than the parent’s Gini \n",
    "\n",
    "impurity."
   ]
  },
  {
   "cell_type": "markdown",
   "id": "72605ff3",
   "metadata": {},
   "source": [
    "#### 3. Explain if its a good idea to reduce max depth if a Decision Tree is overfitting the training set ?\n",
    "\n",
    "\n",
    "#### Ans:\n",
    "\n",
    "If a Decision Tree is overfitting the training set, it may be a good idea to decrease max depth, since this will constrain the \n",
    "\n",
    "model, regularizing it."
   ]
  },
  {
   "cell_type": "markdown",
   "id": "9de935f8",
   "metadata": {},
   "source": [
    "#### 4. Explain if its a good idea to try scaling the input features if a Decision Tree underfits the training set ?\n",
    "\n",
    "#### Ans:\n",
    "\n",
    "Decision Trees don’t care whether or not the training data is scaled or centered; that’s one of the nice things about them. So \n",
    "\n",
    "\n",
    "if a Decision Tree underfits the training set, scaling the input features will just be a waste of time."
   ]
  },
  {
   "cell_type": "markdown",
   "id": "ad4a8eed",
   "metadata": {},
   "source": [
    "#### 5. How much time will it take to train another Decision Tree on a training set of 10 million instances if it takes an hour to train a Decision Tree on a training set with 1 million instances ?\n",
    "\n",
    "\n",
    "#### Ans:\n",
    "\n",
    "The computational complexity of training a Decision Tree is O(n × m log(m)). So if you multiply the training set size by 10, \n",
    "\n",
    "the training time will be multiplied by K = (n × 10m × log(10m)) / (n × m × log(m)) = 10 × log(10m) / log(m). If m = 10⁶, then \n",
    "\n",
    "\n",
    "K ≈ 11.7, so you can expect the training time to be roughly 11.7 hours."
   ]
  },
  {
   "cell_type": "markdown",
   "id": "98886aa9",
   "metadata": {},
   "source": [
    "#### 6. Will setting presort=True speed up training if your training set has 100,000 instances ?\n",
    "\n",
    "\n",
    "#### Ans:\n",
    "\n",
    "Presorting the training set speeds up training only if the dataset is smaller than a few thousand instances. If it contains \n",
    "\n",
    "\n",
    "100,000 instances, setting presort=True will considerably slow down the training.\n",
    "\n"
   ]
  },
  {
   "cell_type": "markdown",
   "id": "84b2e021",
   "metadata": {},
   "source": [
    "#### 7. Follow these steps to train and fine-tune a Decision Tree for the moons dataset:\n",
    "\n",
    "a. To build a moons dataset, use make moons(n samples=10000, noise=0.4).\n",
    "\n",
    "b. Divide the dataset into a training and a test collection with train test split().\n",
    "\n",
    "c. To find good hyperparameters values for a DecisionTreeClassifier, use grid search with cross-validation (with the GridSearchCV class). Try different values for max leaf nodes.\n",
    "\n",
    "d. Use these hyperparameters to train the model on the entire training set, and then assess its output on the test set. You can achieve an accuracy of 85 to 87 percent.\n",
    "\n",
    "\n",
    "#### Ans:\n",
    "\n",
    "a. To build a moons dataset, use make moons(n samples=10000, noise=0.4).\n",
    "\n",
    "\n",
    "\n",
    "b. Divide the dataset into a training and a test collection with train test split().\n",
    "\n",
    "\n",
    "\n",
    "c. To find good hyperparameters values for a DecisionTreeClassifier, use grid search with cross- validation (with the GridSearchCV class). Try different values for max leaf nodes.\n",
    "\n",
    "\n",
    "\n",
    "d. Use these hyperparameters to train the model on the entire training set, and then assess its output on the test set. You can achieve an accuracy of 85 to 87 percent.\n",
    "\n"
   ]
  },
  {
   "cell_type": "markdown",
   "id": "ac9f941f",
   "metadata": {},
   "source": [
    "#### 8.Follow these steps to grow a forest:\n",
    "\n",
    "a. Using the same method as before, create 1,000 subsets of the training set, each containing 100 instances chosen at random. You can do this with Scikit-ShuffleSplit Learn's class.\n",
    "\n",
    "\n",
    "b. Using the best hyperparameter values found in the previous exercise, train one Decision Tree on each subset. On the test collection, evaluate these 1,000 Decision Trees. These Decision Trees would likely perform worse than the first Decision Tree, achieving only around 80% accuracy, since they were trained on smaller sets.\n",
    "\n",
    "\n",
    "c. Now the magic begins. Create 1,000 Decision Tree predictions for each test set case, and keep only the most common prediction (you can do this with SciPy's mode() function). Over the test collection, this method gives you majority-vote predictions.\n",
    "\n",
    "\n",
    "\n",
    "d. On the test range, evaluate these predictions: you should achieve a slightly higher accuracy than the first model (approx 0.5 to 1.5 percent higher). You've successfully learned a Random Forest classifier!\n",
    "\n",
    "\n",
    "\n",
    "#### Ans:\n",
    "\n",
    "a. Using the same method as before, create 1,000 subsets of the training set, each containing 100 instances chosen at random. You can do this with Scikit-ShuffleSplit Learn's class.\n",
    "\n",
    "\n",
    "\n",
    "b. Using the best hyperparameter values found in the previous exercise, train one Decision Tree on each subset. On the test \n",
    "\n",
    "collection, evaluate these 1,000 Decision Trees. These Decision\n",
    "\n",
    "\n",
    "Trees would likely perform worse than the first Decision Tree, achieving only around 80% accuracy, since they were trained on \n",
    "\n",
    "smaller sets.\n",
    "\n",
    "\n",
    "\n",
    "c. Now the magic begins. Create 1,000 Decision Tree predictions for each test set case, and keep only the most common prediction (you can do this with SciPy's mode() function). Over the test collection, this method gives you majority-vote predictions.\n",
    "\n",
    "\n",
    "\n",
    "d. On the test range, evaluate these predictions: you should achieve a slightly higher accuracy than the first model (approx 0.5 to 1.5 percent higher). You've successfully learned a Random Forest classifier!\n",
    "\n",
    " "
   ]
  },
  {
   "cell_type": "code",
   "execution_count": null,
   "id": "54983428",
   "metadata": {},
   "outputs": [],
   "source": []
  }
 ],
 "metadata": {
  "kernelspec": {
   "display_name": "Python 3 (ipykernel)",
   "language": "python",
   "name": "python3"
  },
  "language_info": {
   "codemirror_mode": {
    "name": "ipython",
    "version": 3
   },
   "file_extension": ".py",
   "mimetype": "text/x-python",
   "name": "python",
   "nbconvert_exporter": "python",
   "pygments_lexer": "ipython3",
   "version": "3.10.9"
  }
 },
 "nbformat": 4,
 "nbformat_minor": 5
}
