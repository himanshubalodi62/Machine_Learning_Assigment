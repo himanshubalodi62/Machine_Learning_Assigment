{
 "cells": [
  {
   "cell_type": "markdown",
   "id": "17101da6",
   "metadata": {},
   "source": [
    "# Machine Learning Assignment 10 solution"
   ]
  },
  {
   "cell_type": "markdown",
   "id": "0f568f26",
   "metadata": {},
   "source": [
    "#### 1. Define the Bayesian interpretation of probability.\n",
    "\n",
    "**Ans:** Bayesian probability is the study of subjective probabilities or belief in an outcome, compared to the frequentist \n",
    "\n",
    "approach where probabilities are based purely on the past occurrence of the event. A Bayesian Network captures the joint \n",
    "\n",
    "probabilities of the events represented by the model.\n",
    "\n",
    "\n",
    "\n",
    "#### 2. Define probability of a union of two events with equation.\n",
    "\n",
    "\n",
    "**Ans:** The general probability addition rule for the union of two events states that P(A∪B)=P(A)+P(B)−P(A∩B), where A∩B is \n",
    "\n",
    "the intersection of the two sets.\n",
    "\n",
    "\n",
    "\n",
    "\n",
    "#### 3. What is joint probability? What is its formula?\n",
    "\n",
    "\n",
    "**Ans:|** Probabilities are combined using multiplication, therefore the joint probability of independent events is calculated \n",
    "\n",
    "as the probability of event A multiplied by the probability of event B. This can be stated formally as follows:\n",
    "\n",
    "Joint Probability: **P(A and B) = P(A)*P(B)**\n",
    "\n",
    "\n",
    "\n",
    "#### 4. What is chain rule of probability?\n",
    "\n",
    "\n",
    "**Ans:** The chain rule, or general product rule, calculates any component of the joint distribution of a set of random \n",
    "\n",
    "variables using only conditional probabilities. This probability theory is used as a foundation for backpropagation and in \n",
    "\n",
    "creating Bayesian networks.\n",
    "\n",
    "\n",
    "\n",
    "\n",
    "#### 5. What is conditional probability means? What is the formula of it?\n",
    "\n",
    "\n",
    "\n",
    "**Ans:** Conditional probability is defined as the likelihood of an event or outcome occurring, based on the occurrence of a \n",
    "\n",
    "previous event or outcome.\n",
    "\n",
    "**Conditional probability** is calculated by multiplying the probability of the preceding event by the updated probability of \n",
    "\n",
    "the succeeding, or conditional, event.\n",
    "\n",
    "Let's take a real-life example. Probability of selling a TV on a given normal day may be only 30%. But if we consider that \n",
    "\n",
    "given day is Diwali, then there are much more chances of selling a TV. The conditional Probability of selling a TV on a day \n",
    "\n",
    "given that Day is Diwali might be 70%.\n",
    "\n",
    "\n",
    "\n",
    "#### 6. What are continuous random variables?\n",
    "\n",
    "\n",
    "**Ans:** A continuous random variable X takes all values in a given interval of numbers. ▪ The probability distribution of a \n",
    "\n",
    "continuous random variable is shown by a density curve. ▪ The probability that X is between an interval of numbers is the area \n",
    "\n",
    "under the density curve between the interval endpoints.\n",
    "\n",
    "#### 7. What are Bernoulli distributions? What is the formula of it?\n",
    "\n",
    "**Ans:** A **Bernoulli distribution** is a discrete probability distribution for a Bernoulli trial — a random experiment that \n",
    "\n",
    "has only two outcomes (usually called a Succes or a Failure).The expected value for a random variable, X.\n",
    "\n",
    "For a Bernoulli distribution is: **E[X] = p.For example, if p = 0.04, then E[X] = 0.4**\n",
    "\n",
    "\n",
    "\n",
    "\n",
    "\n",
    "#### 8. What is binomial distribution? What is the formula?\n",
    "\n",
    "\n",
    "**Ans:** The binomial is a type of distribution that has two possible outcomes (the prefix “bi” means two, or twice).For \n",
    "\n",
    "example, a coin toss has only two possible outcomes: heads or tails and taking a test could have two possible outcomes: pass or \n",
    "\n",
    "fail.\n",
    "\n",
    "A Binomial Distribution shows either (S)uccess or (F)ailure.\n",
    "\n",
    "#### 9. What is Poisson distribution? What is the formula?\n",
    "\n",
    "\n",
    "**Ans:** A **Poisson distribution** is defined as a discrete frequency distribution that gives the probability of the number of \n",
    "\n",
    "independent events that occur in the fixed time.\n",
    "\n",
    "In statistics, a Poisson distribution is a probability distribution that is used to show how many times an event is likely to occur over a specified period. ... The Poisson distribution is a discrete function, meaning that the variable can only take specific values in a (potentially infinite) list.\n",
    "\n",
    "### 10. Define covariance ?\n",
    "\n",
    "**Ans:** Covariance is a measure of how much two random variables vary together. It's similar to variance, but where variance \n",
    "\n",
    "tells you how a single variable varies, co variance tells you how two variables vary together.\n",
    "\n",
    "## 11. Define correlation ?\n",
    "Ans: Correlation explains how one or more variables are related to each other. These variables can be input data features which have been used to forecast our target variable. It's a bi-variate analysis measure which describes the association between different variables.\n",
    "\n",
    "12. Define sampling with replacement. Give example.\n",
    "Ans: If you sample with replacement, you would choose one person's name, put that person's name back in the hat, and then choose another name. The possibilities for your two-name sample are: John, John. John, Jack.\n",
    "\n",
    "13. What is sampling without replacement? Give example.\n",
    "Ans: In sampling without replacement, each sample unit of the population has only one chance to be selected in the sample. For example, if one draws a simple random sample such that no unit occurs more than one time in the sample, the sample is drawn without replacement.\n",
    "\n",
    "14.What is hypothesis? Give example.\n",
    "Ans: A hypothesis (plural hypotheses) is a proposed explanation for a phenomenon. For a hypothesis to be a scientific hypothesis, the scientific method requires that one can test it. ... Even though the words \"hypothesis\" and \"theory\" are often used synonymously, a scientific hypothesis is not the same as a scientific theory.\n",
    "\n",
    "Examples of hypothesis statements: If garlic repels fleas, then a dog that is given garlic every day will not get fleas. Bacterial growth may be affected by moisture levels in the air. If sugar causes cavities, then people who eat a lot of candy may be more prone to cavities."
   ]
  },
  {
   "cell_type": "markdown",
   "id": "d93ba187",
   "metadata": {},
   "source": [
    "#### 1. Define the Bayesian interpretation of probability.\n",
    "\n",
    "**Ans:** Bayesian probability is the study of subjective probabilities or belief in an outcome, compared to the frequentist \n",
    "\n",
    "approach where probabilities are based purely on the past occurrence of the event. A Bayesian Network captures the joint \n",
    "\n",
    "probabilities of the events represented by the model.\n"
   ]
  },
  {
   "cell_type": "markdown",
   "id": "261ecd45",
   "metadata": {},
   "source": [
    "#### 2. Define probability of a union of two events with equation.\n",
    "\n",
    "\n",
    "**Ans:** The general probability addition rule for the union of two events states that **P(A∪B)=P(A)+P(B)−P(A∩B)**, where A∩B is \n",
    "\n",
    "the intersection of the two sets.\n",
    "\n",
    "\n",
    "**Intersection:** The intersection of two events is the probability that the two events, A and B, will occur at the same time. If both events are mutually exclusive, then this probability will be 0 because both events cannot occur at the same time. If both events are independent, then this probability is given by:\n",
    "\n",
    "**P(A∩B)=P(A)P(B)**\n",
    "\n",
    "\n",
    "Union: The union of two events is the probability that either A or B will occur. If both events are not mutually exclusive, then this probability is given by:\n",
    "\n",
    "**P(A∪B) = P(A) + P(B) − P(A ∩ B)**"
   ]
  },
  {
   "cell_type": "markdown",
   "id": "c6a5b857",
   "metadata": {},
   "source": [
    "#### 4. What is chain rule of probability?\n",
    "\n",
    "\n",
    "**Ans:** The chain rule, or general product rule, calculates any component of the joint distribution of a set of random \n",
    "\n",
    "variables using only conditional probabilities. This probability theory is used as a foundation for backpropagation and in \n",
    "\n",
    "creating Bayesian networks."
   ]
  },
  {
   "cell_type": "markdown",
   "id": "106fda88",
   "metadata": {},
   "source": [
    "#### 5. What is conditional probability means? What is the formula of it?\n",
    "\n",
    "\n",
    "\n",
    "**Ans:** Conditional probability is defined as the likelihood of an event or outcome occurring, based on the occurrence of a \n",
    "\n",
    "previous event or outcome.\n",
    "\n",
    "**Conditional probability** is calculated by multiplying the probability of the preceding event by the updated probability of \n",
    "\n",
    "the succeeding, or conditional, event.\n",
    "\n",
    "**Formula:\n",
    "\n",
    "**P(A|B) = P(A and B) / P(B)**\n",
    "\n",
    "where P(A and B) is the probability of events A and B occurring together, and P(B) is the probability of event B occurring.\n",
    "\n",
    "Let's take a **real-life example**. Probability of selling a TV on a given normal day may be only 30%. But if we consider that \n",
    "\n",
    "given day is Diwali, then there are much more chances of selling a TV. The conditional Probability of selling a TV on a day \n",
    "\n",
    "given that Day is Diwali might be 70%.\n",
    "\n",
    "\n"
   ]
  },
  {
   "cell_type": "markdown",
   "id": "91a83f80",
   "metadata": {},
   "source": [
    "#### 6. What are continuous random variables?\n",
    "\n",
    "\n",
    "**Ans:** A continuous random variable X takes all values in a given interval of numbers. \n",
    "    \n",
    "    \n",
    "▪ The probability distribution of a continuous random variable is shown by a density curve. ▪ The probability that X is between an interval of numbers is the area \n",
    "\n",
    "under the density curve between the interval endpoints.\n"
   ]
  },
  {
   "cell_type": "markdown",
   "id": "d32591af",
   "metadata": {},
   "source": [
    "### 7. What are Bernoulli distributions? What is the formula of it?\n",
    "\n",
    "**Ans:** A **Bernoulli distribution** is a discrete probability distribution for a Bernoulli trial — a random experiment that \n",
    "\n",
    "has only two outcomes (usually called a Succes or a Failure).The expected value for a random variable, X.\n",
    "\n",
    "For a Bernoulli distribution is: **E[X] = p.For example, if p = 0.04, then E[X] = 0.4**\n",
    "\n"
   ]
  },
  {
   "cell_type": "markdown",
   "id": "f200ac4c",
   "metadata": {},
   "source": [
    "Formula is :"
   ]
  },
  {
   "cell_type": "markdown",
   "id": "361081fb",
   "metadata": {},
   "source": [
    "<img src = \"https://cdn.wallstreetmojo.com/wp-content/uploads/2022/08/image-5.png\" width=\"500\" heigth=\"300\"/>"
   ]
  },
  {
   "cell_type": "markdown",
   "id": "dcb6d9ab",
   "metadata": {},
   "source": [
    "Here, ‘x’ is the outcome, which can either be a success (x=1), or failure, ( x=0)\n",
    "\n",
    "‘p’ is the probability of getting success.\n",
    "\n",
    "q = 1-p, and it denoted the probability of failure.\n",
    "\n",
    "The value of p is 0 < p < 1."
   ]
  },
  {
   "cell_type": "markdown",
   "id": "700ec030",
   "metadata": {},
   "source": [
    "\n",
    "#### 8. What is binomial distribution? What is the formula?\n",
    "\n",
    "\n",
    "**Ans:** The binomial is a type of distribution that has two possible outcomes (the prefix “bi” means two, or twice).For \n",
    "\n",
    "example, a coin toss has only two possible outcomes: heads or tails and taking a test could have two possible outcomes: pass or \n",
    "\n",
    "fail.\n",
    "\n",
    "A Binomial Distribution shows either (S)uccess or (F)ailure.\n"
   ]
  },
  {
   "cell_type": "markdown",
   "id": "e847eaa4",
   "metadata": {},
   "source": [
    "**Binomial Distribution Formula**"
   ]
  },
  {
   "cell_type": "markdown",
   "id": "ace61016",
   "metadata": {},
   "source": [
    "<img src = \"https://www.gstatic.com/education/formulas2/472522532/en/binomial_distribution_formula.svg\" width=\"500\" height=\"300\"/>"
   ]
  },
  {
   "cell_type": "markdown",
   "id": "84445361",
   "metadata": {},
   "source": [
    "P\t=\tbinomial probability\n",
    "\n",
    "x\t=\tnumber of times for a specific outcome within n trials\n",
    "\n",
    "{n \\choose x}\t=\tnumber of combinations\n",
    "\n",
    "p\t=\tprobability of success on a single trial\n",
    "\n",
    "q\t=\tprobability of failure on a single trial\n",
    "\n",
    "n\t=\tnumber of trials"
   ]
  },
  {
   "cell_type": "markdown",
   "id": "59cd08ab",
   "metadata": {},
   "source": [
    "#### 9. What is Poisson distribution? What is the formula?\n",
    "\n",
    "\n",
    "**Ans:** A **Poisson distribution** is defined as a discrete frequency distribution that gives the probability of the number of \n",
    "\n",
    "independent events that occur in the fixed time.\n",
    "\n",
    "In statistics, a Poisson distribution is a probability distribution that is used to show how many times an event is likely to occur over a specified period. ... The Poisson distribution is a discrete function, meaning that the variable can only take specific values in a (potentially infinite) list.\n"
   ]
  },
  {
   "cell_type": "markdown",
   "id": "8bb4c5a0",
   "metadata": {},
   "source": [
    "<img src = \"https://cdn.educba.com/academy/wp-content/uploads/2019/06/Poisson-Distribution-Formula-1.jpg\" width=\"500\" height=\"300\"/>"
   ]
  },
  {
   "cell_type": "markdown",
   "id": "634cbd90",
   "metadata": {},
   "source": [
    "Where\n",
    "\n",
    "x = 0, 1, 2, 3...\n",
    "\n",
    "e is the Euler's number(e = 2.718)\n",
    "\n",
    "λ is an average rate of the expected value and λ = variance, also λ>0"
   ]
  },
  {
   "cell_type": "markdown",
   "id": "14ca11bd",
   "metadata": {},
   "source": [
    "### 10. Define covariance ?\n",
    "\n",
    "**Ans:** Covariance is a measure of how much two random variables vary together. It's similar to variance, but where variance \n",
    "\n",
    "tells you how a single variable varies, co variance tells you how two variables vary together.\n"
   ]
  },
  {
   "cell_type": "markdown",
   "id": "6dde996c",
   "metadata": {},
   "source": [
    "<img src = \"https://www.gstatic.com/education/formulas2/472522532/en/covariance_formula.svg\" width=\"500\" height=\"300\"/>"
   ]
  },
  {
   "cell_type": "markdown",
   "id": "b469a086",
   "metadata": {},
   "source": [
    "\n",
    "cov_{x,y}\t=\tcovariance between variable x and y\n",
    "\n",
    "x_{i}\t=\tdata value of x\n",
    "\n",
    "y_{i}\t=\tdata value of y\n",
    "\n",
    "\\bar{x}\t=\tmean of x\n",
    "\n",
    "\\bar{y}\t=\tmean of y\n",
    "\n",
    "N\t=\tnumber of data values"
   ]
  },
  {
   "cell_type": "markdown",
   "id": "31b4b0ea",
   "metadata": {},
   "source": [
    "###  11. Define correlation ?\n",
    "\n",
    "**Ans:** Correlation explains how one or more variables are related to each other. These variables can be input data features \n",
    "\n",
    "which have been used to forecast our target variable. It's a bi-variate analysis measure which describes the association \n",
    "\n",
    "between different variables."
   ]
  },
  {
   "cell_type": "markdown",
   "id": "57c14c45",
   "metadata": {},
   "source": [
    "<img src = \"https://www.gstatic.com/education/formulas2/472522532/en/correlation_coefficient_formula.svg\" width=\"300\" height=\"100\"/>"
   ]
  },
  {
   "cell_type": "markdown",
   "id": "e685a5e4",
   "metadata": {},
   "source": [
    "r\t=\tcorrelation coefficient\n",
    "\n",
    "x_{i}\t=\tvalues of the x-variable in a sample\n",
    "\n",
    "\\bar{x}\t=\tmean of the values of the x-variable\n",
    "\n",
    "y_{i}\t=\tvalues of the y-variable in a sample\n",
    "\n",
    "\\bar{y}\t=\tmean of the values of the y-variable\n"
   ]
  },
  {
   "cell_type": "markdown",
   "id": "83093908",
   "metadata": {},
   "source": [
    "### 12. Define sampling with replacement. Give example.\n",
    "\n",
    "**Ans:** If you sample with replacement, you would choose one person's name, put that person's name back in the hat, and then \n",
    "\n",
    "choose another name. The possibilities for your two-name sample are: John, John. John, Jack.\n"
   ]
  },
  {
   "cell_type": "markdown",
   "id": "8f858720",
   "metadata": {},
   "source": [
    "Let’s say you had a population of 7 people, and you wanted to sample 2. Their names are:\n",
    "John\n",
    "\n",
    "Jack\n",
    "\n",
    "Qiu\n",
    "\n",
    "Tina\n",
    "\n",
    "Hatty\n",
    "\n",
    "Jacques\n",
    "\n",
    "Des\n",
    "\n",
    "you could put their names in a hat. If you sample with replacement, you would choose one person’s name, put that person’s name back in the hat, and then choose another name. The possibilities for your two-name sample are:\n",
    "John, John\n",
    "\n",
    "John, Jack\n",
    "\n",
    "John, Qui\n",
    "\n",
    "Jack, Qui\n",
    "\n",
    "Jack Tina\n",
    "\n",
    "…and so on."
   ]
  },
  {
   "cell_type": "markdown",
   "id": "d086a055",
   "metadata": {},
   "source": [
    "### 14.What is hypothesis? Give example.\n",
    "\n",
    "\n",
    "**Ans:** A hypothesis (plural hypotheses) is a proposed explanation for a phenomenon. For a hypothesis to be a scientific hypothesis, the scientific method requires that one can test it. ... Even though the words \"hypothesis\" and \"theory\" are often used synonymously, a scientific hypothesis is not the same as a scientific theory.\n",
    "\n",
    "Examples of hypothesis statements: If garlic repels fleas, then a dog that is given garlic every day will not get fleas. Bacterial growth may be affected by moisture levels in the air. If sugar causes cavities, then people who eat a lot of candy may be more prone to cavities."
   ]
  },
  {
   "cell_type": "markdown",
   "id": "e936114f",
   "metadata": {},
   "source": [
    "A hypothesis is a proposed explanation or prediction for a phenomenon or observation that can be tested through further investigation or experimentation. It is a tentative statement or assumption that can be either proven or disproven based on evidence.\n",
    "\n",
    "For example, let's say we want to investigate whether caffeine improves athletic performance. We could propose the following hypothesis:\n",
    "\n",
    "Hypothesis: Consuming caffeine before exercise improves athletic performance.\n",
    "\n",
    "This hypothesis can be tested through an experiment where we randomly assign participants to either a caffeine group or a placebo group, have them perform the same exercise task, and measure their performance outcomes (e.g., time to completion, distance covered). If the caffeine group performs significantly better than the placebo group, we can provide evidence to support the hypothesis. Conversely, if there is no significant difference between the groups, we may reject the hypothesis."
   ]
  },
  {
   "cell_type": "code",
   "execution_count": null,
   "id": "25a62fa5",
   "metadata": {},
   "outputs": [],
   "source": []
  },
  {
   "cell_type": "markdown",
   "id": "197cfdbb",
   "metadata": {},
   "source": []
  }
 ],
 "metadata": {
  "kernelspec": {
   "display_name": "Python 3 (ipykernel)",
   "language": "python",
   "name": "python3"
  },
  "language_info": {
   "codemirror_mode": {
    "name": "ipython",
    "version": 3
   },
   "file_extension": ".py",
   "mimetype": "text/x-python",
   "name": "python",
   "nbconvert_exporter": "python",
   "pygments_lexer": "ipython3",
   "version": "3.10.9"
  }
 },
 "nbformat": 4,
 "nbformat_minor": 5
}
